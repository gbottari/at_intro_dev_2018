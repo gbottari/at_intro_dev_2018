{
 "cells": [
  {
   "cell_type": "markdown",
   "metadata": {},
   "source": [
    "# Calculando Estatísticas Simples com Python\n",
    "\n",
    "(Aplicação Prática inspirada no problema descrito em http://dojopuzzles.com/problemas/exibe/calculando-estatisticas-simples/).\n",
    "\n",
    "![fundo](imgs/stats.jpg \"fundo\")\n",
    "\n",
    "## Introdução\n",
    "\n",
    "Quando trabalhamos com dados, utilizamos técnicas estatísticas para nos ajudar a interpretar e extrair conhecimento. Uma ferramenta comum de sumarização de dados é calcular a **média aritmética**, **máximo valor** e **mínimo valor**.\n",
    "\n",
    "Dada uma série $A = a_0, a_1, \\ldots, a_n$, a média aritmética é definida como: $${média(A)={\\frac {1}{n}}\\sum _{i=0}^{n-1}a_{i}={\\frac {a_{0}+a_{1}+\\cdots +a_{n-1}}{n}}}$$.\n",
    "\n",
    "Os valores máximo e mínimo podem ser definidos como:\n",
    "\n",
    "$$máx(A) = a_j\\ |\\ a_j\\ \\geq a_i\\ \\forall i$$\n",
    "\n",
    "$$mín(A) = a_j\\ |\\ a_j\\ \\leq a_i\\ \\forall i$$\n",
    "\n",
    "onde $i, j \\in 0,1,\\ldots,n-1$."
   ]
  },
  {
   "cell_type": "markdown",
   "metadata": {},
   "source": [
    "## Implementação\n",
    "\n",
    "Dado as definições de **média**, **máximo** e **mínimo**, iremos implementá-las em Python.\n",
    "\n",
    "A entrada do nosso sistema é a sequência de dados $A$. Uma representação natural em Python seria uma `list`:"
   ]
  },
  {
   "cell_type": "code",
   "execution_count": 1,
   "metadata": {},
   "outputs": [],
   "source": [
    "A = [1, 5, 8]"
   ]
  },
  {
   "cell_type": "markdown",
   "metadata": {},
   "source": [
    "Da mesma forma, podemos representar as funções matemáticas através de funções em Python:"
   ]
  },
  {
   "cell_type": "code",
   "execution_count": 3,
   "metadata": {},
   "outputs": [],
   "source": [
    "def media(l): \n",
    "    \"\"\"Retorna a média aritmética de uma lista de números l.\"\"\"\n",
    "    pass\n",
    "\n",
    "def max_val(l): \n",
    "    \"\"\"Retorna o máximo valor de uma lista de números l.\"\"\"\n",
    "    pass\n",
    "\n",
    "def min_val(l): \n",
    "    \"\"\"Retorna o mínimo valor de uma lista de números l.\"\"\"\n",
    "    pass"
   ]
  },
  {
   "cell_type": "markdown",
   "metadata": {},
   "source": [
    "Observação: a palavra-chave `pass` não tem efeito algum e é usada para fechar um bloco. Na prática, as funções acima não fazem nada."
   ]
  },
  {
   "cell_type": "markdown",
   "metadata": {},
   "source": [
    "### Testes\n",
    "\n",
    "Antes de implementar as funções, vamos definir o que desejamos obter como resultado. Principalmente para códigos mais complexos, é considerado boa-prática criar testes antes mesmo de começar a implementação.\n",
    "\n",
    "#### Tarefa: remova o comentário das linhas de código abaixo e preencha  corretamente os trechos marcados com **???**."
   ]
  },
  {
   "cell_type": "code",
   "execution_count": 59,
   "metadata": {},
   "outputs": [],
   "source": [
    "def testar_funcao(nome_teste, teste_passou):\n",
    "    print('> {:30}: [{}]'.format(nome_teste, 'OK' if teste_passou else 'Erro'))\n",
    "\n",
    "def testar_funcoes():\n",
    "    # Testes de média\n",
    "    #testar_funcao('Teste média 1 item',        media([1]) == ???)\n",
    "    #testar_funcao('Teste média 3 itens',       media([1, 4, 4]) == ???)\n",
    "    #testar_funcao('Teste média valor decimal', media([2, 3]) == ???)\n",
    "    \n",
    "    # testes de valor máximo\n",
    "    #testar_funcao('Teste máx 1 item',          max_val([???]) == 1)\n",
    "    #testar_funcao('Teste máx primeiro item',   max_val([9, 5, 7]) == ???)\n",
    "    #testar_funcao('Teste máx último item',     max_val([8, 1, 2, ???]) == 9)\n",
    "        \n",
    "    # testes de valor mínimo\n",
    "    #testar_funcao('Teste mín 1 item',          min_val([???]) == 1)\n",
    "    #testar_funcao('Teste mín primeiro item',   max_val([???, 9, 7]) == 5)\n",
    "    #testar_funcao('Teste mín último item',     min_val([8, 2, 2, ???]) == ???)\n",
    "    pass"
   ]
  },
  {
   "cell_type": "markdown",
   "metadata": {},
   "source": [
    "Se rodarmos os testes agora, veremos uma série de mensagens de erro. Isso é o esperado, já que não implementamos nada ainda."
   ]
  },
  {
   "cell_type": "code",
   "execution_count": 60,
   "metadata": {},
   "outputs": [],
   "source": [
    "testar_funcoes()"
   ]
  },
  {
   "cell_type": "markdown",
   "metadata": {},
   "source": [
    "### Máximo e Mínimo\n",
    "\n",
    "Quando estamos diante de um problema de implementação, precisamos definir uma estratégia de trabalho. Vamos começar primeiro pelos problemas mais simples: `min_val` e `max_val`.\n",
    "\n",
    "Considere uma sequência simples composta de dois itens, como:"
   ]
  },
  {
   "cell_type": "code",
   "execution_count": 6,
   "metadata": {},
   "outputs": [],
   "source": [
    "a_0 = 4\n",
    "a_1 = 3\n",
    "A = [a_0, a_1]"
   ]
  },
  {
   "cell_type": "markdown",
   "metadata": {},
   "source": [
    "O máximo ou o mínimo neste caso específico são `a_0` (4) e `a_1` (3), respectivamente.\n",
    "\n",
    "Mas como faríamos para caracterizar `a_0` e `a_1` independentemente do valor atribuído? Neste caso, precisamos fazer um teste usando o comando `if`. Sendo assim:"
   ]
  },
  {
   "cell_type": "code",
   "execution_count": 36,
   "metadata": {},
   "outputs": [
    {
     "name": "stdout",
     "output_type": "stream",
     "text": [
      "O máximo valor é 4 e o mínimo é 3\n"
     ]
    }
   ],
   "source": [
    "val_max = a_0 if a_0 > a_1 else a_1\n",
    "val_min = a_0 if a_0 < a_1 else a_1\n",
    "\n",
    "print('O máximo valor é', val_max, 'e o mínimo é', val_min)"
   ]
  },
  {
   "cell_type": "markdown",
   "metadata": {},
   "source": [
    "Porém, o nosso problema original é composto de uma sequência de tamanho variável. O que acontece quando $A$ tem 3 itens? Vamos analisar apenas o caso do valor máximo."
   ]
  },
  {
   "cell_type": "code",
   "execution_count": 35,
   "metadata": {},
   "outputs": [
    {
     "name": "stdout",
     "output_type": "stream",
     "text": [
      "O máximo valor é 5\n"
     ]
    }
   ],
   "source": [
    "a_0 = 4\n",
    "a_1 = 3\n",
    "a_2 = 5\n",
    "A = [a_0, a_1, a_2]\n",
    "\n",
    "max_temp = a_0 if a_0 > a_1 else a_1\n",
    "val_max = max_temp if max_temp > a_2 else a_2\n",
    "\n",
    "print('O máximo valor é', val_max)"
   ]
  },
  {
   "cell_type": "markdown",
   "metadata": {},
   "source": [
    "Nesta solução, dividimos o problema em duas partes. Primeiro, definimos quais dos itens (`a_0` ou `a_1`) é o máximo apenas entre eles e atribuímos o resultado a `max_temp`. Em seguida, utilizamos este resultado parcial para determinar `val_max` com o item restante, `a_2`.\n",
    "\n",
    "Vamos continuar, utilizando uma sequência de 4 itens:"
   ]
  },
  {
   "cell_type": "code",
   "execution_count": 43,
   "metadata": {},
   "outputs": [
    {
     "name": "stdout",
     "output_type": "stream",
     "text": [
      "O máximo valor é 9\n"
     ]
    }
   ],
   "source": [
    "a_0 = 4\n",
    "a_1 = 3\n",
    "a_2 = 5\n",
    "a_3 = 9\n",
    "A = [a_0, a_1, a_2, a_3]\n",
    "\n",
    "max_temp_1 = a_0 if a_0 > a_1 else a_1\n",
    "max_temp_2 = max_temp_1 if max_temp_1 > a_2 else a_2\n",
    "val_max = max_temp_2 if max_temp_2 > a_3 else a_3\n",
    "\n",
    "print('O máximo valor é', val_max)"
   ]
  },
  {
   "cell_type": "markdown",
   "metadata": {},
   "source": [
    "Desta vez criamos duas variáveis de apoio: `max_temp_1` e `max_temp_2`. Será que é possível melhorar o algoritmo acima? O valor de `max_temp_1` é apenas lido para a criação de `max_temp_2` e a partir daí a variável não é mais necessária. O próprio valor de `val_max` passa por uma situação similar. Podemos simplificar utilizando apenas uma variável, `val_max`:"
   ]
  },
  {
   "cell_type": "code",
   "execution_count": 33,
   "metadata": {},
   "outputs": [
    {
     "name": "stdout",
     "output_type": "stream",
     "text": [
      "O máximo valor é 9\n"
     ]
    }
   ],
   "source": [
    "val_max = a_0 if a_0 > a_1 else a_1\n",
    "val_max = val_max if val_max > a_2 else a_2\n",
    "val_max = val_max if val_max > a_3 else a_3\n",
    "\n",
    "print('O máximo valor é', val_max)"
   ]
  },
  {
   "cell_type": "markdown",
   "metadata": {},
   "source": [
    "Lembre-se que, na verdade, $A$ pode ter 2, 3, 5, 10 ou até mesmo 1000 itens. Precisamos implementar um algoritmo acima independente do tamanho da lista.\n",
    "\n",
    "Sendo assim, precisamos visitar cada item para determinar se ele é o máximo ou o mínimo da sequência. Uma forma de fazer essa visita é através de loops `for`."
   ]
  },
  {
   "cell_type": "code",
   "execution_count": 42,
   "metadata": {},
   "outputs": [
    {
     "name": "stdout",
     "output_type": "stream",
     "text": [
      "visitando item: 0\n",
      "visitando item: 1\n",
      "visitando item: 2\n",
      "visitando item: 3\n",
      "visitando item: 4\n"
     ]
    }
   ],
   "source": [
    "for a in [0, 1, 2, 3, 4]:\n",
    "    print('visitando item:', a)"
   ]
  },
  {
   "cell_type": "markdown",
   "metadata": {},
   "source": [
    "Vamos voltar a olhar o nosso algorimo. Três valores são testados em sequência: `a_1`, `a_2` e `a_3`. Na verdade, o algoritmo pode ser reescrito para mostrar mais claramente estes testes."
   ]
  },
  {
   "cell_type": "code",
   "execution_count": 39,
   "metadata": {},
   "outputs": [
    {
     "name": "stdout",
     "output_type": "stream",
     "text": [
      "O máximo valor é 9\n"
     ]
    }
   ],
   "source": [
    "val_max = a_0\n",
    "val_max = val_max if val_max > a_1 else a_1\n",
    "val_max = val_max if val_max > a_2 else a_2\n",
    "val_max = val_max if val_max > a_3 else a_3\n",
    "\n",
    "print('O máximo valor é', val_max)"
   ]
  },
  {
   "cell_type": "markdown",
   "metadata": {},
   "source": [
    "Vamos nos aproveitar do fato que os testes envolvendo `val_max` se repetem e utilizá-los dentro de um loop `for`:"
   ]
  },
  {
   "cell_type": "code",
   "execution_count": 44,
   "metadata": {},
   "outputs": [
    {
     "name": "stdout",
     "output_type": "stream",
     "text": [
      "visitando item: 4\n",
      "val_max = 4\n",
      "visitando item: 3\n",
      "val_max = 4\n",
      "visitando item: 5\n",
      "val_max = 5\n",
      "visitando item: 9\n",
      "val_max = 9\n",
      "O máximo valor é 9\n"
     ]
    }
   ],
   "source": [
    "val_max = a_0\n",
    "for a in A:\n",
    "    print('visitando item:', a)\n",
    "    val_max = val_max if val_max > a else a\n",
    "    print('val_max =', val_max)\n",
    "    \n",
    "print('O máximo valor é', val_max)    "
   ]
  },
  {
   "cell_type": "markdown",
   "metadata": {},
   "source": [
    "Pronto! Parece que temos um algoritmo para `max_val`! \n",
    "\n",
    "\n",
    "#### Tarefa: preencha o código abaixo com o algoritmo que desenhamos até então."
   ]
  },
  {
   "cell_type": "code",
   "execution_count": 61,
   "metadata": {},
   "outputs": [],
   "source": [
    "def max_val(l):\n",
    "    # coloque o algoritmo construído aqui\n",
    "    # note que a lista aqui se chama l e não A!\n",
    "    \n",
    "    val_max = l[0]  # primeiro item da lista (a_0)\n",
    "        \n",
    "    # [IMPLEMENTE AQUI]\n",
    "    \n",
    "    return val_max"
   ]
  },
  {
   "cell_type": "markdown",
   "metadata": {},
   "source": [
    "#### Tarefa: Aproveite e implemente também `min_val`."
   ]
  },
  {
   "cell_type": "code",
   "execution_count": 62,
   "metadata": {},
   "outputs": [],
   "source": [
    "def min_val(l):\n",
    "    # [IMPLEMENTE AQUI]\n",
    "    pass"
   ]
  },
  {
   "cell_type": "markdown",
   "metadata": {},
   "source": [
    "Vamos testar o que fizemos? Execute a linha abaixo:"
   ]
  },
  {
   "cell_type": "code",
   "execution_count": 58,
   "metadata": {},
   "outputs": [
    {
     "name": "stdout",
     "output_type": "stream",
     "text": [
      "> Teste máx 1 item              : [OK]\n",
      "> Teste máx primeiro item       : [OK]\n",
      "> Teste máx último item         : [Erro]\n"
     ]
    }
   ],
   "source": [
    "testar_funcoes()"
   ]
  },
  {
   "cell_type": "markdown",
   "metadata": {},
   "source": [
    "### Média\n",
    "\n",
    "A definição da média pode ser dividido em duas partes a soma dos valores e a divisão pelo número de itens.\n",
    "\n",
    "I) $a_{0}+a_{1}+\\cdots +a_{n-1}$\n",
    "\n",
    "II) $\\div\\ n$\n",
    "\n",
    "Lembre-se que o número de itens de uma lista pode ser obtido através da função `len`."
   ]
  },
  {
   "cell_type": "code",
   "execution_count": 65,
   "metadata": {},
   "outputs": [
    {
     "data": {
      "text/plain": [
       "3"
      ]
     },
     "execution_count": 65,
     "metadata": {},
     "output_type": "execute_result"
    }
   ],
   "source": [
    "len([1,2,3])"
   ]
  },
  {
   "cell_type": "markdown",
   "metadata": {},
   "source": [
    "A soma dos itens pode ser obtida através de um acumulador. Isto é, uma variável guarda o resultado de uma série de operações. Veja um exemplo:"
   ]
  },
  {
   "cell_type": "code",
   "execution_count": 67,
   "metadata": {},
   "outputs": [
    {
     "name": "stdout",
     "output_type": "stream",
     "text": [
      "6\n"
     ]
    }
   ],
   "source": [
    "acumulador = 0\n",
    "acumulador = acumulador + 1\n",
    "acumulador = acumulador + 2\n",
    "acumulador = acumulador + 3\n",
    "    \n",
    "print(acumulador)"
   ]
  },
  {
   "cell_type": "markdown",
   "metadata": {},
   "source": [
    "Neste caso, o acumulador guarda o resultado da soma dos valores 1, 2 e 3. Isso pode ser integrado facilmente a um loop `for`."
   ]
  },
  {
   "cell_type": "code",
   "execution_count": 68,
   "metadata": {},
   "outputs": [
    {
     "name": "stdout",
     "output_type": "stream",
     "text": [
      "6\n"
     ]
    }
   ],
   "source": [
    "acumulador = 0\n",
    "for i in range(1, 4):\n",
    "    acumulador += i\n",
    "    \n",
    "print(acumulador)    "
   ]
  },
  {
   "cell_type": "markdown",
   "metadata": {},
   "source": [
    "#### Utilizando estas duas dicas: o conceito de *acumulador* e a função `len`, implemente `media`"
   ]
  },
  {
   "cell_type": "code",
   "execution_count": 69,
   "metadata": {},
   "outputs": [],
   "source": [
    "def media(l):\n",
    "    # [IMPLEMENTE AQUI]\n",
    "    pass"
   ]
  },
  {
   "cell_type": "code",
   "execution_count": 70,
   "metadata": {},
   "outputs": [],
   "source": [
    "testar_funcoes()"
   ]
  },
  {
   "cell_type": "markdown",
   "metadata": {},
   "source": [
    "### Desafio\n",
    "\n",
    "Uma outra forma de implementar os algoritmos propostos é utilizando o conceito de recursividade. \n",
    "\n",
    "\n",
    "#### Tarefa: você consegue re-implementar `min_val`, `max_val` e `media` sem utilizar um loop `for` e através de chamadas recursivas?\n",
    "\n",
    "Comece pensando no caso base de recursão: quando o algoritmo não deve chamar a si mesmo e apenas retornar um valor possível?"
   ]
  },
  {
   "cell_type": "code",
   "execution_count": 64,
   "metadata": {},
   "outputs": [],
   "source": [
    "# Coloque o seu código recursivo aqui:\n",
    "\n",
    "# [IMPLEMENTE AQUI]"
   ]
  },
  {
   "cell_type": "code",
   "execution_count": null,
   "metadata": {},
   "outputs": [],
   "source": [
    "testar_funcoes()"
   ]
  }
 ],
 "metadata": {
  "kernelspec": {
   "display_name": "Python 3",
   "language": "python",
   "name": "python3"
  },
  "language_info": {
   "codemirror_mode": {
    "name": "ipython",
    "version": 3
   },
   "file_extension": ".py",
   "mimetype": "text/x-python",
   "name": "python",
   "nbconvert_exporter": "python",
   "pygments_lexer": "ipython3",
   "version": "3.6.5"
  }
 },
 "nbformat": 4,
 "nbformat_minor": 2
}
