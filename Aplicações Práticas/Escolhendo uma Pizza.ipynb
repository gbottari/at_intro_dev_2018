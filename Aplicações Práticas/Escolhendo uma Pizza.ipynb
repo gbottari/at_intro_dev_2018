{
 "cells": [
  {
   "cell_type": "markdown",
   "metadata": {},
   "source": [
    "# Escolhendo uma Pizza\n",
    "\n",
    "(Aplicação Prática inspirada no problema descrito em http://dojopuzzles.com/problemas/exibe/escolhendo-uma-pizza/).\n",
    "\n",
    "![fundo](imgs/pizza.jpg \"fundo\")"
   ]
  },
  {
   "cell_type": "markdown",
   "metadata": {},
   "source": [
    "## Introdução\n",
    "\n",
    "Quando o prazo de entrega está apertado, as equipes de uma empresa de desenvolvimento de software trabalham até bem tarde. E quando bate a fome, pedem pizza para comer rapidamente e continuar trabalhando.\n",
    "\n",
    "Cada pizza é dividida por duas pessoas e sempre é uma briga na escolha dos sabores e às vezes é difícil encontrar um colega que tenha gostos parecidos com os seus para dividir uma pizza."
   ]
  },
  {
   "cell_type": "markdown",
   "metadata": {},
   "source": [
    "## Definição do Problema\n",
    "\n",
    "Cansados de tanta discussão, eles resolveram criar uma programa que organizasse rapidamente o grupo de 6 integrandes em 3 duplas de modo que as pessoas dividissem uma pizza de comum agrado.\n",
    "\n",
    "Foi feito um levantamento na equipe e pediram para avaliar cada sabor de pizza com uma nota de 1 à 5. Os valores estão resumidos na tabela abaixo.\n",
    "\n",
    "|                 | Guto   | Marcelo | Leo | Renata | Felipe | Laura |\n",
    "|-----------------|--------|---------|-----|--------|--------|-------|\n",
    "| Marguerita      | 4      | 2       | 4   | 4      | 1      | 5     |\n",
    "| Portuguesa      | 5      | 2       | 5   | 5      | 1      | 4     |\n",
    "| Frango_Catupiry | 4      | 1       | 2   | 1      | 2      | 4     |\n",
    "| Napolitana      | 4      | 3       | 1   | 1      | 3      | 3     |\n",
    "| Quatro_Queijos  | 2      | 5       | 1   | 3      | 4      | 2     |\n",
    "\n",
    "Podemos assumir que, uma vez definida uma dupla, a pizza que será escolhida será qualquer uma que seja da preferência de ambos. Por exemplo, se uma das duplas for Leo e Renata, temos a seguinte situação:\n",
    "\n",
    "|                     | Leo    | Renata |\n",
    "|---------------------|--------|--------|\n",
    "| Marguerita          | 4      | 4      |\n",
    "| *Portuguesa*        | *5*    | *5*    |\n",
    "| Frango_Catupiry     | 2      | 1      |\n",
    "| Napolitana          | 1      | 1      |\n",
    "| Quatro_Queijos      | 1      | 3      |\n",
    "\n",
    "Como podemos ver, a pizza *Portuguesa* é o melhor sabor para esta dupla. Porém, uma vez que selecionamos esta dupla, ela não está mais disponível para os outros integrantes. Essa escolha poderia prejudicar Guto, por exemplo, que também gosta bastante de pizzas portuguesas."
   ]
  },
  {
   "cell_type": "markdown",
   "metadata": {},
   "source": [
    "## Estrutura de dados\n",
    "\n",
    "Precisamos definir uma maneira de armazenar os dados dos nossos desenvolvedores. Podemos pensar da seguinte maneira: para cada programador da tabela, podemos ter um dicionário onde estão catalogadas as suas preferências:\n",
    "\n",
    "```python\n",
    "# Usando o Leo como exemplo:\n",
    "{\"Marguerita\": 4, \"Portuguesa\": 5, \"Frango_Catupiry\": 2, \"Napolitana\": 1, \"Quatro_Queijos\": 1}\n",
    "```\n",
    "\n",
    "Em seguida, podemos armazenar todos os programadores em um outro `dict`, que corresponde ao seu nome e suas preferências. Sendo assim, estaremos definindo todos os parâmetros do problema.\n",
    "\n",
    "Repetindo a tabela de preferências:\n",
    "\n",
    "|                 | Guto   | Marcelo | Leo | Renata | Felipe | Laura |\n",
    "|-----------------|--------|---------|-----|--------|--------|-------|\n",
    "| Marguerita      | 4      | 2       | 4   | 4      | 1      | 5     |\n",
    "| Portuguesa      | 5      | 2       | 5   | 5      | 1      | 4     |\n",
    "| Frango_Catupiry | 4      | 1       | 2   | 1      | 2      | 4     |\n",
    "| Napolitana      | 4      | 3       | 1   | 1      | 3      | 3     |\n",
    "| Quatro_Queijos  | 2      | 5       | 1   | 3      | 4      | 2     |"
   ]
  },
  {
   "cell_type": "code",
   "execution_count": 4,
   "metadata": {},
   "outputs": [],
   "source": [
    "problema = {\n",
    "    \"Guto\":    {\"Marguerita\": 4, \"Portuguesa\": 5, \"Frango_Catupiry\": 4, \"Napolitana\": 4, \"Quatro_Queijos\": 2},\n",
    "    \"Marcelo\": {\"Marguerita\": 2, \"Portuguesa\": 2, \"Frango_Catupiry\": 1, \"Napolitana\": 3, \"Quatro_Queijos\": 5},\n",
    "    \"Leo\":     {\"Marguerita\": 4, \"Portuguesa\": 5, \"Frango_Catupiry\": 2, \"Napolitana\": 1, \"Quatro_Queijos\": 1},\n",
    "    \"Renata\":  {\"Marguerita\": 4, \"Portuguesa\": 5, \"Frango_Catupiry\": 1, \"Napolitana\": 1, \"Quatro_Queijos\": 3},\n",
    "    \"Felipe\":  {\"Marguerita\": 1, \"Portuguesa\": 1, \"Frango_Catupiry\": 2, \"Napolitana\": 3, \"Quatro_Queijos\": 4},\n",
    "    \"Laura\":   {\"Marguerita\": 5, \"Portuguesa\": 4, \"Frango_Catupiry\": 4, \"Napolitana\": 3, \"Quatro_Queijos\": 2},\n",
    "}"
   ]
  },
  {
   "cell_type": "markdown",
   "metadata": {},
   "source": [
    "## Escolhendo uma pizza dado uma dupla\n",
    "\n",
    "Primeiramente, precisamos criar um método objetivo de escolher uma pizza dado uma dupla como Leo e Renata. Vamos definir que a escolha será feita pelo valor mínimo do gosto individual para uma certa pizza. Sendo assim, teríamos a seguinte situação:\n",
    "\n",
    "|                     | Leo    | Renata | Função \"Gosto da Dupla\" |\n",
    "|---------------------|--------|--------|-------------------------|\n",
    "| Marguerita          | 4      | 4      | $min(4, 4) = 4$         |\n",
    "| Portuguesa          | 5      | 5      | $min(5, 5) = 5$         |\n",
    "| Frango_Catupiry     | 2      | 1      | $min(2, 1) = 1$         |\n",
    "| Napolitana          | 1      | 1      | $min(1, 1) = 1$         |\n",
    "| Quatro_Queijos      | 1      | 3      | $min(1, 3) = 1$         |\n",
    "\n",
    "\n",
    "Vamos implementar esta lógica como uma função Python."
   ]
  },
  {
   "cell_type": "code",
   "execution_count": 1,
   "metadata": {},
   "outputs": [],
   "source": [
    "def gosto_da_dupla(gosto_programador_1, gosto_programador_2):\n",
    "    return min(gosto_programador_1, gosto_programador_2)"
   ]
  },
  {
   "cell_type": "markdown",
   "metadata": {},
   "source": [
    "Precisamos agora avaliar a melhor pizza para a dupla. Basta obter a pizza que tem o maior valor para a função `gosto_da_dupla`. Vamos definir também uma lista de pizzas para facilitar nossos algoritmos."
   ]
  },
  {
   "cell_type": "code",
   "execution_count": 6,
   "metadata": {},
   "outputs": [],
   "source": [
    "pizzas = [\"Marguerita\", \"Portuguesa\", \"Frango_Catupiry\", \"Napolitana\", \"Quatro_Queijos\"]"
   ]
  },
  {
   "cell_type": "code",
   "execution_count": 7,
   "metadata": {},
   "outputs": [],
   "source": [
    "def melhor_gosto_da_dupla(programador_1, programador_2):\n",
    "    return max(gosto_da_dupla(programador_1[pizza], programador_2[pizza]) for pizza in pizzas)"
   ]
  },
  {
   "cell_type": "markdown",
   "metadata": {},
   "source": [
    "## Definindo a solução e o seu valor\n",
    "\n",
    "Uma solução para este problema pode ser representada de maneira muito simples, como uma lista de nomes onde as duplas são definidas a cada 2 nomes. Por exemplo:\n",
    "\n",
    "```python\n",
    "solucao = [\"Felipe\", \"Laura\", \"Guto\", \"Leo\", \"Marcelo\", \"Renata\"]\n",
    "```\n",
    "\n",
    "Neste caso, as duplas são:\n",
    "\n",
    "* Felipe e Laura\n",
    "* Guto e Leo\n",
    "* Marcelo e Renata\n",
    "\n",
    "Além das duplas, precisamos calcular o valor desta solução. Podemos pensar nisso como o quanto esta configuração de duplas agradou a cada indivíduo de maneira sumarizada. Vamos definir esta função agora:"
   ]
  },
  {
   "cell_type": "code",
   "execution_count": 5,
   "metadata": {},
   "outputs": [],
   "source": [
    "def valor_solucao(solucao):    \n",
    "    pass"
   ]
  }
 ],
 "metadata": {
  "kernelspec": {
   "display_name": "Python 3",
   "language": "python",
   "name": "python3"
  },
  "language_info": {
   "codemirror_mode": {
    "name": "ipython",
    "version": 3
   },
   "file_extension": ".py",
   "mimetype": "text/x-python",
   "name": "python",
   "nbconvert_exporter": "python",
   "pygments_lexer": "ipython3",
   "version": "3.6.5"
  }
 },
 "nbformat": 4,
 "nbformat_minor": 2
}
